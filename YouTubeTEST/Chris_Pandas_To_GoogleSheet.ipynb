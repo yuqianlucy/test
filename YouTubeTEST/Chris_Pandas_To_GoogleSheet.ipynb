{
 "cells": [
  {
   "cell_type": "code",
   "execution_count": 5,
   "metadata": {},
   "outputs": [],
   "source": [
    "#pip install gspread\n",
    "#pip install df2gspread"
   ]
  },
  {
   "cell_type": "code",
   "execution_count": 2,
   "metadata": {},
   "outputs": [],
   "source": [
    "import pandas as pd\n",
    "import numpy as np\n",
    "import gspread\n",
    "import df2gspread as d2g"
   ]
  },
  {
   "cell_type": "code",
   "execution_count": 9,
   "metadata": {
    "scrolled": true
   },
   "outputs": [
    {
     "name": "stdout",
     "output_type": "stream",
     "text": [
      "[['Hello World!']]\n"
     ]
    }
   ],
   "source": [
    "import gspread\n",
    "\n",
    "gc = gspread.service_account(filename='/Users/zeyu/Desktop/youtube-api-336718-f402f7c370e8.json')\n",
    "\n",
    "sh = gc.open(\"MySql Attemption\")\n",
    "\n",
    "print(sh.sheet1.get('A1'))"
   ]
  },
  {
   "cell_type": "code",
   "execution_count": 10,
   "metadata": {},
   "outputs": [
    {
     "name": "stdout",
     "output_type": "stream",
     "text": [
      "1188 cells appended.\n"
     ]
    }
   ],
   "source": [
    "from __future__ import print_function\n",
    "from Chris_auth import spreadsheet_service\n",
    "from Chris_auth import drive_service\n",
    "\n",
    "\n",
    "def export_pandas_df_to_sheets():\n",
    "    spreadsheet_id = '1e1FVeh8U30QMcW2Zzxt37NtX2AkBN0VKyXD_Iycyoc0'\n",
    "    \n",
    "    df = pd.read_csv(\"/Users/zeyu/Desktop/TEST.csv\")\n",
    "    df.replace(np.nan, \"Unknown\", inplace=True)\n",
    "    \n",
    "    body = {\n",
    "        'values': df.values.tolist()\n",
    "    }\n",
    "    \n",
    "  \n",
    "    result = spreadsheet_service.spreadsheets().values().append(\n",
    "        spreadsheetId=spreadsheet_id, body=body, valueInputOption='USER_ENTERED', range='Sheet1').execute()\n",
    "    print('{0} cells appended.'.format(result \\\n",
    "                                       .get('updates') \\\n",
    "                                       .get('updatedCells')))\n",
    "export_pandas_df_to_sheets()"
   ]
  },
  {
   "cell_type": "code",
   "execution_count": null,
   "metadata": {},
   "outputs": [],
   "source": []
  },
  {
   "cell_type": "code",
   "execution_count": null,
   "metadata": {},
   "outputs": [],
   "source": []
  }
 ],
 "metadata": {
  "kernelspec": {
   "display_name": "Python 3",
   "language": "python",
   "name": "python3"
  },
  "language_info": {
   "codemirror_mode": {
    "name": "ipython",
    "version": 3
   },
   "file_extension": ".py",
   "mimetype": "text/x-python",
   "name": "python",
   "nbconvert_exporter": "python",
   "pygments_lexer": "ipython3",
   "version": "3.9.9"
  }
 },
 "nbformat": 4,
 "nbformat_minor": 4
}
